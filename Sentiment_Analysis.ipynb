{
  "cells": [
    {
      "cell_type": "code",
      "execution_count": 1,
      "id": "7d37eb20",
      "metadata": {
        "id": "7d37eb20"
      },
      "outputs": [],
      "source": [
        "# Import necessary libraries\n",
        "import numpy as np\n",
        "import pandas as pd"
      ]
    },
    {
      "cell_type": "code",
      "source": [
        "from google.colab import drive\n",
        "drive.mount('/content/drive')"
      ],
      "metadata": {
        "id": "rj4Zx_Qm4UTB",
        "outputId": "d9a85eb8-1189-4cf1-d249-6ff037715fee",
        "colab": {
          "base_uri": "https://localhost:8080/"
        }
      },
      "id": "rj4Zx_Qm4UTB",
      "execution_count": 2,
      "outputs": [
        {
          "output_type": "stream",
          "name": "stdout",
          "text": [
            "Mounted at /content/drive\n"
          ]
        }
      ]
    },
    {
      "cell_type": "code",
      "source": [
        "# Get the Encoding format of the file so that it can be read correctly\n",
        "import chardet\n",
        "\n",
        "# Store the filepaths of the data of all websites in a Dictionary\n",
        "filepaths = {\n",
        "             'amazon' : '/content/drive/MyDrive/Datasets/labelled_sentences/amazon_cells_labelled.txt',\n",
        "             'yelp' : '/content/drive/MyDrive/Datasets/labelled_sentences/yelp_labelled.txt',\n",
        "             'imdb' : '/content/drive/MyDrive/Datasets/labelled_sentences/imdb_labelled.txt'\n",
        "            }\n",
        "\n",
        "encodings = {}\n",
        "\n",
        "for key, value in filepaths.items():\n",
        "    with open(value, 'rb') as rawdata:\n",
        "        result = chardet.detect(rawdata.read(100000))\n",
        "        encodings[key] = result['encoding']\n",
        "        print(\"The encoding of {} file was {}\".format(key, encodings[key]))"
      ],
      "metadata": {
        "id": "2AEC152v4WDG",
        "outputId": "66d8a02d-6563-4b17-ae5b-4f00057ff35d",
        "colab": {
          "base_uri": "https://localhost:8080/"
        }
      },
      "id": "2AEC152v4WDG",
      "execution_count": 10,
      "outputs": [
        {
          "output_type": "stream",
          "name": "stdout",
          "text": [
            "The encoding of amazon file was ascii\n",
            "The encoding of yelp file was utf-8\n",
            "The encoding of imdb file was utf-8\n"
          ]
        }
      ]
    },
    {
      "cell_type": "code",
      "execution_count": 12,
      "id": "0c628cd6",
      "metadata": {
        "id": "0c628cd6"
      },
      "outputs": [],
      "source": [
        "\n",
        "\n",
        "# Used to store all the dataframes in a list\n",
        "data_list = []\n",
        "    \n",
        "# Read the files into dataframes\n",
        "for website, path in filepaths.items():\n",
        "    website_data = pd.read_csv(path, names=['sentence', 'label'], sep='\\t', encoding=encodings[website])\n",
        "    \n",
        "    # Adding a source column \n",
        "    website_data['source'] = website\n",
        "    \n",
        "    data_list.append(website_data)\n",
        "    \n",
        "# Concatenate all the dataframes\n",
        "raw_data = pd.concat(data_list)"
      ]
    },
    {
      "cell_type": "code",
      "execution_count": 13,
      "id": "69986aa8",
      "metadata": {
        "id": "69986aa8",
        "outputId": "4df94f82-0dad-492d-f53a-47826bbeedeb",
        "colab": {
          "base_uri": "https://localhost:8080/",
          "height": 206
        }
      },
      "outputs": [
        {
          "output_type": "execute_result",
          "data": {
            "text/html": [
              "\n",
              "  <div id=\"df-9eb17477-819c-44ea-aa0c-d1be96fc2f8a\">\n",
              "    <div class=\"colab-df-container\">\n",
              "      <div>\n",
              "<style scoped>\n",
              "    .dataframe tbody tr th:only-of-type {\n",
              "        vertical-align: middle;\n",
              "    }\n",
              "\n",
              "    .dataframe tbody tr th {\n",
              "        vertical-align: top;\n",
              "    }\n",
              "\n",
              "    .dataframe thead th {\n",
              "        text-align: right;\n",
              "    }\n",
              "</style>\n",
              "<table border=\"1\" class=\"dataframe\">\n",
              "  <thead>\n",
              "    <tr style=\"text-align: right;\">\n",
              "      <th></th>\n",
              "      <th>sentence</th>\n",
              "      <th>label</th>\n",
              "      <th>source</th>\n",
              "    </tr>\n",
              "  </thead>\n",
              "  <tbody>\n",
              "    <tr>\n",
              "      <th>0</th>\n",
              "      <td>So there is no way for me to plug it in here i...</td>\n",
              "      <td>0</td>\n",
              "      <td>amazon</td>\n",
              "    </tr>\n",
              "    <tr>\n",
              "      <th>1</th>\n",
              "      <td>Good case, Excellent value.</td>\n",
              "      <td>1</td>\n",
              "      <td>amazon</td>\n",
              "    </tr>\n",
              "    <tr>\n",
              "      <th>2</th>\n",
              "      <td>Great for the jawbone.</td>\n",
              "      <td>1</td>\n",
              "      <td>amazon</td>\n",
              "    </tr>\n",
              "    <tr>\n",
              "      <th>3</th>\n",
              "      <td>Tied to charger for conversations lasting more...</td>\n",
              "      <td>0</td>\n",
              "      <td>amazon</td>\n",
              "    </tr>\n",
              "    <tr>\n",
              "      <th>4</th>\n",
              "      <td>The mic is great.</td>\n",
              "      <td>1</td>\n",
              "      <td>amazon</td>\n",
              "    </tr>\n",
              "  </tbody>\n",
              "</table>\n",
              "</div>\n",
              "      <button class=\"colab-df-convert\" onclick=\"convertToInteractive('df-9eb17477-819c-44ea-aa0c-d1be96fc2f8a')\"\n",
              "              title=\"Convert this dataframe to an interactive table.\"\n",
              "              style=\"display:none;\">\n",
              "        \n",
              "  <svg xmlns=\"http://www.w3.org/2000/svg\" height=\"24px\"viewBox=\"0 0 24 24\"\n",
              "       width=\"24px\">\n",
              "    <path d=\"M0 0h24v24H0V0z\" fill=\"none\"/>\n",
              "    <path d=\"M18.56 5.44l.94 2.06.94-2.06 2.06-.94-2.06-.94-.94-2.06-.94 2.06-2.06.94zm-11 1L8.5 8.5l.94-2.06 2.06-.94-2.06-.94L8.5 2.5l-.94 2.06-2.06.94zm10 10l.94 2.06.94-2.06 2.06-.94-2.06-.94-.94-2.06-.94 2.06-2.06.94z\"/><path d=\"M17.41 7.96l-1.37-1.37c-.4-.4-.92-.59-1.43-.59-.52 0-1.04.2-1.43.59L10.3 9.45l-7.72 7.72c-.78.78-.78 2.05 0 2.83L4 21.41c.39.39.9.59 1.41.59.51 0 1.02-.2 1.41-.59l7.78-7.78 2.81-2.81c.8-.78.8-2.07 0-2.86zM5.41 20L4 18.59l7.72-7.72 1.47 1.35L5.41 20z\"/>\n",
              "  </svg>\n",
              "      </button>\n",
              "      \n",
              "  <style>\n",
              "    .colab-df-container {\n",
              "      display:flex;\n",
              "      flex-wrap:wrap;\n",
              "      gap: 12px;\n",
              "    }\n",
              "\n",
              "    .colab-df-convert {\n",
              "      background-color: #E8F0FE;\n",
              "      border: none;\n",
              "      border-radius: 50%;\n",
              "      cursor: pointer;\n",
              "      display: none;\n",
              "      fill: #1967D2;\n",
              "      height: 32px;\n",
              "      padding: 0 0 0 0;\n",
              "      width: 32px;\n",
              "    }\n",
              "\n",
              "    .colab-df-convert:hover {\n",
              "      background-color: #E2EBFA;\n",
              "      box-shadow: 0px 1px 2px rgba(60, 64, 67, 0.3), 0px 1px 3px 1px rgba(60, 64, 67, 0.15);\n",
              "      fill: #174EA6;\n",
              "    }\n",
              "\n",
              "    [theme=dark] .colab-df-convert {\n",
              "      background-color: #3B4455;\n",
              "      fill: #D2E3FC;\n",
              "    }\n",
              "\n",
              "    [theme=dark] .colab-df-convert:hover {\n",
              "      background-color: #434B5C;\n",
              "      box-shadow: 0px 1px 3px 1px rgba(0, 0, 0, 0.15);\n",
              "      filter: drop-shadow(0px 1px 2px rgba(0, 0, 0, 0.3));\n",
              "      fill: #FFFFFF;\n",
              "    }\n",
              "  </style>\n",
              "\n",
              "      <script>\n",
              "        const buttonEl =\n",
              "          document.querySelector('#df-9eb17477-819c-44ea-aa0c-d1be96fc2f8a button.colab-df-convert');\n",
              "        buttonEl.style.display =\n",
              "          google.colab.kernel.accessAllowed ? 'block' : 'none';\n",
              "\n",
              "        async function convertToInteractive(key) {\n",
              "          const element = document.querySelector('#df-9eb17477-819c-44ea-aa0c-d1be96fc2f8a');\n",
              "          const dataTable =\n",
              "            await google.colab.kernel.invokeFunction('convertToInteractive',\n",
              "                                                     [key], {});\n",
              "          if (!dataTable) return;\n",
              "\n",
              "          const docLinkHtml = 'Like what you see? Visit the ' +\n",
              "            '<a target=\"_blank\" href=https://colab.research.google.com/notebooks/data_table.ipynb>data table notebook</a>'\n",
              "            + ' to learn more about interactive tables.';\n",
              "          element.innerHTML = '';\n",
              "          dataTable['output_type'] = 'display_data';\n",
              "          await google.colab.output.renderOutput(dataTable, element);\n",
              "          const docLink = document.createElement('div');\n",
              "          docLink.innerHTML = docLinkHtml;\n",
              "          element.appendChild(docLink);\n",
              "        }\n",
              "      </script>\n",
              "    </div>\n",
              "  </div>\n",
              "  "
            ],
            "text/plain": [
              "                                            sentence  label  source\n",
              "0  So there is no way for me to plug it in here i...      0  amazon\n",
              "1                        Good case, Excellent value.      1  amazon\n",
              "2                             Great for the jawbone.      1  amazon\n",
              "3  Tied to charger for conversations lasting more...      0  amazon\n",
              "4                                  The mic is great.      1  amazon"
            ]
          },
          "metadata": {},
          "execution_count": 13
        }
      ],
      "source": [
        "# Print the first 5 entries in dataset\n",
        "raw_data.head()"
      ]
    },
    {
      "cell_type": "code",
      "execution_count": 14,
      "id": "78cc2254",
      "metadata": {
        "id": "78cc2254",
        "outputId": "2b89ef19-bb05-401d-ed5a-2571667a4856",
        "colab": {
          "base_uri": "https://localhost:8080/"
        }
      },
      "outputs": [
        {
          "output_type": "execute_result",
          "data": {
            "text/plain": [
              "array(['amazon', 'yelp', 'imdb'], dtype=object)"
            ]
          },
          "metadata": {},
          "execution_count": 14
        }
      ],
      "source": [
        "# Print Unique values in Source\n",
        "raw_data['source'].unique()"
      ]
    },
    {
      "cell_type": "markdown",
      "id": "d70b0988",
      "metadata": {
        "id": "d70b0988"
      },
      "source": [
        "## Amazon Reviews"
      ]
    },
    {
      "cell_type": "code",
      "execution_count": 15,
      "id": "81b64e4e",
      "metadata": {
        "id": "81b64e4e"
      },
      "outputs": [],
      "source": [
        "# Extract the amazon reviews from the dataframe\n",
        "data_amazon = raw_data[raw_data['source'] == 'amazon']\n",
        "\n",
        "# Separate sentences and labels from amazon data\n",
        "sentences = data_amazon['sentence'].values\n",
        "y = data_amazon['label'].values"
      ]
    },
    {
      "cell_type": "code",
      "source": [
        "# Import nltk and download the list of stopwords\n",
        "import nltk\n",
        "nltk.download('stopwords')\n",
        "nltk.download('brown')"
      ],
      "metadata": {
        "id": "9vXzXKAZ74Z6",
        "outputId": "0f02fe4c-143d-4b55-aac7-e217097d8b60",
        "colab": {
          "base_uri": "https://localhost:8080/"
        }
      },
      "id": "9vXzXKAZ74Z6",
      "execution_count": 32,
      "outputs": [
        {
          "output_type": "stream",
          "name": "stdout",
          "text": [
            "[nltk_data] Downloading package stopwords to /root/nltk_data...\n",
            "[nltk_data]   Package stopwords is already up-to-date!\n",
            "[nltk_data] Downloading package brown to /root/nltk_data...\n",
            "[nltk_data]   Unzipping corpora/brown.zip.\n"
          ]
        },
        {
          "output_type": "execute_result",
          "data": {
            "text/plain": [
              "True"
            ]
          },
          "metadata": {},
          "execution_count": 32
        }
      ]
    },
    {
      "cell_type": "code",
      "execution_count": 20,
      "id": "17d88c72",
      "metadata": {
        "id": "17d88c72"
      },
      "outputs": [],
      "source": [
        "# Perform Stemming and remove stopwords\n",
        "from nltk.corpus import stopwords\n",
        "from nltk.stem import PorterStemmer\n",
        "\n",
        "stop_words = stopwords.words('english')\n",
        "stemmer = PorterStemmer()\n",
        "\n",
        "mod_sentences = []\n",
        "\n",
        "for sentence in sentences:\n",
        "    sentence = [stemmer.stem(word) for word in sentence.split() if word not in stop_words]\n",
        "    mod_sentences.append(' '.join(sentence))"
      ]
    },
    {
      "cell_type": "code",
      "execution_count": 21,
      "id": "279f79f5",
      "metadata": {
        "id": "279f79f5",
        "outputId": "8b9da3f9-0be6-4fd4-c7c3-82e6e3aad57a",
        "colab": {
          "base_uri": "https://localhost:8080/"
        }
      },
      "outputs": [
        {
          "output_type": "stream",
          "name": "stdout",
          "text": [
            "Great for the jawbone.\n",
            "great jawbone.\n"
          ]
        }
      ],
      "source": [
        "# Print the sentence before and after stemming and stopword removal\n",
        "print(sentences[2])\n",
        "print(mod_sentences[2])"
      ]
    },
    {
      "cell_type": "code",
      "execution_count": 22,
      "id": "22861cce",
      "metadata": {
        "id": "22861cce"
      },
      "outputs": [],
      "source": [
        "# Tokenize the sentences\n",
        "from keras.preprocessing.text import Tokenizer\n",
        "\n",
        "# Create a tokenizer to get 5000 most used words\n",
        "tokenizer = Tokenizer(num_words=5000)\n",
        "tokenizer.fit_on_texts(mod_sentences)"
      ]
    },
    {
      "cell_type": "code",
      "execution_count": 23,
      "id": "a59f7166",
      "metadata": {
        "id": "a59f7166",
        "outputId": "38024a8d-697a-4660-9fd6-d4d81e49ac77",
        "colab": {
          "base_uri": "https://localhost:8080/"
        }
      },
      "outputs": [
        {
          "output_type": "stream",
          "name": "stdout",
          "text": [
            "1000\n"
          ]
        }
      ],
      "source": [
        "print(tokenizer.document_count)"
      ]
    },
    {
      "cell_type": "code",
      "execution_count": 24,
      "id": "bf191196",
      "metadata": {
        "id": "bf191196"
      },
      "outputs": [],
      "source": [
        "encoded_doc = tokenizer.texts_to_sequences(mod_sentences)"
      ]
    },
    {
      "cell_type": "code",
      "execution_count": 25,
      "id": "18d638e8",
      "metadata": {
        "id": "18d638e8",
        "outputId": "91dcc56f-4f08-4bad-c418-c83dcc650b25",
        "colab": {
          "base_uri": "https://localhost:8080/"
        }
      },
      "outputs": [
        {
          "output_type": "stream",
          "name": "stdout",
          "text": [
            "great jawbone.\n",
            "[5, 746]\n"
          ]
        }
      ],
      "source": [
        "print(mod_sentences[2])\n",
        "print(encoded_doc[2])"
      ]
    },
    {
      "cell_type": "code",
      "execution_count": 26,
      "id": "0a5a2ce7",
      "metadata": {
        "id": "0a5a2ce7"
      },
      "outputs": [],
      "source": [
        "# Set the vocab size as 5000\n",
        "vocab_size = 5000"
      ]
    },
    {
      "cell_type": "code",
      "execution_count": 27,
      "id": "22b2d6b8",
      "metadata": {
        "id": "22b2d6b8"
      },
      "outputs": [],
      "source": [
        "from keras.preprocessing.sequence import pad_sequences\n",
        "max_len = 30\n",
        "encoded_doc = pad_sequences(encoded_doc, maxlen=max_len)"
      ]
    },
    {
      "cell_type": "code",
      "execution_count": 28,
      "id": "53d5eee8",
      "metadata": {
        "id": "53d5eee8",
        "outputId": "f2758c34-3db0-4803-af29-f6756742a5cf",
        "colab": {
          "base_uri": "https://localhost:8080/"
        }
      },
      "outputs": [
        {
          "output_type": "stream",
          "name": "stdout",
          "text": [
            "[  0   0   0   0   0   0   0   0   0   0   0   0   0   0   0   0   0   0\n",
            "   0   0   0   0   0   0   0   0   0   0   5 746]\n"
          ]
        }
      ],
      "source": [
        "# Printing the padded sentence\n",
        "print(encoded_doc[2, :])"
      ]
    },
    {
      "cell_type": "code",
      "execution_count": 29,
      "id": "7c8680f2",
      "metadata": {
        "id": "7c8680f2"
      },
      "outputs": [],
      "source": [
        "from sklearn.model_selection import train_test_split\n",
        "\n",
        "X_train, X_test, y_train, y_test = train_test_split(encoded_doc, y, test_size=0.3, random_state=42)"
      ]
    },
    {
      "cell_type": "code",
      "execution_count": 30,
      "id": "3bcabee8",
      "metadata": {
        "id": "3bcabee8",
        "outputId": "9e92caaf-856a-4aba-cb06-e31a0f152e03",
        "colab": {
          "base_uri": "https://localhost:8080/"
        }
      },
      "outputs": [
        {
          "output_type": "stream",
          "name": "stdout",
          "text": [
            "Shape of X_train is:  (700, 30)\n",
            "Shape of X_test is:  (300, 30)\n",
            "Shape of y_train is:  (700,)\n",
            "Shape of y_test is:  (300,)\n"
          ]
        }
      ],
      "source": [
        "print(\"Shape of X_train is: \", X_train.shape)\n",
        "print(\"Shape of X_test is: \", X_test.shape)\n",
        "print(\"Shape of y_train is: \", y_train.shape)\n",
        "print(\"Shape of y_test is: \", y_test.shape)"
      ]
    },
    {
      "cell_type": "code",
      "execution_count": 34,
      "id": "071128c5",
      "metadata": {
        "id": "071128c5",
        "outputId": "21c9cf19-3a5c-4ea1-a421-dfef23e29293",
        "colab": {
          "base_uri": "https://localhost:8080/"
        }
      },
      "outputs": [
        {
          "output_type": "stream",
          "name": "stdout",
          "text": [
            "['The', 'September-October', 'term', 'jury', 'had', 'been', 'charged', 'by', 'Fulton', 'Superior', 'Court', 'Judge', 'Durwood', 'Pye', 'to', 'investigate', 'reports', 'of', 'possible', '``', 'irregularities', \"''\", 'in', 'the', 'hard-fought', 'primary', 'which', 'was', 'won', 'by', 'Mayor-nominate', 'Ivan', 'Allen', 'Jr.', '.']\n"
          ]
        }
      ],
      "source": [
        "# Create word embeddings\n",
        "from nltk.corpus import brown\n",
        "from gensim.models import Word2Vec\n",
        "import multiprocessing\n",
        "\n",
        "sents = brown.sents()\n",
        "print(sents[2])\n",
        "\n",
        "w2v = Word2Vec(sentences=sents,size=300,window=5,min_count=5,negative=15,workers=multiprocessing.cpu_count())\n",
        "\n",
        "word_vectors = w2v.wv"
      ]
    },
    {
      "cell_type": "code",
      "execution_count": 35,
      "id": "c23cdc8b",
      "metadata": {
        "id": "c23cdc8b",
        "outputId": "b5167210-58e6-420e-b7cf-f7abdfb1ae40",
        "colab": {
          "base_uri": "https://localhost:8080/"
        }
      },
      "outputs": [
        {
          "output_type": "stream",
          "name": "stdout",
          "text": [
            "Most similar words are:\n",
            " [('real', 0.8915715217590332), ('bad', 0.8800411820411682), ('quite', 0.8509020805358887), ('simply', 0.8086235523223877), ('little', 0.8049530982971191)]\n"
          ]
        }
      ],
      "source": [
        "result = word_vectors.similar_by_word('good')\n",
        "\n",
        "print(\"Most similar words are:\\n\", result[:5])"
      ]
    },
    {
      "cell_type": "code",
      "execution_count": 38,
      "id": "27ca7496",
      "metadata": {
        "id": "27ca7496"
      },
      "outputs": [],
      "source": [
        "# Creating embedding matrix\n",
        "def create_embedding_matrix(word_vectors, word_index, embedding_dim):\n",
        "    vocab_size = 5000\n",
        "    \n",
        "    embedding_matrix = np.zeros((vocab_size, embedding_dim))\n",
        "    count = 0\n",
        "    \n",
        "    for word in word_vectors.vocab:\n",
        "        if word in word_index:\n",
        "            index = word_index[word]\n",
        "            count += 1\n",
        "            \n",
        "            embedding_matrix[index] = np.array(word_vectors[word], dtype=np.float32)[:embedding_dim]\n",
        "    \n",
        "    return embedding_matrix, count"
      ]
    },
    {
      "cell_type": "code",
      "execution_count": 39,
      "id": "df5a261c",
      "metadata": {
        "id": "df5a261c"
      },
      "outputs": [],
      "source": [
        "embedding_dim = 300\n",
        "c = 0\n",
        "embedding_matrix, c = create_embedding_matrix(word_vectors, tokenizer.word_index, embedding_dim)"
      ]
    },
    {
      "cell_type": "code",
      "execution_count": 40,
      "id": "ea25fcab",
      "metadata": {
        "id": "ea25fcab",
        "outputId": "f42ed5c0-32e9-48f1-ecaa-7378f96e71e4",
        "colab": {
          "base_uri": "https://localhost:8080/"
        }
      },
      "outputs": [
        {
          "output_type": "execute_result",
          "data": {
            "text/plain": [
              "(5000, 300)"
            ]
          },
          "metadata": {},
          "execution_count": 40
        }
      ],
      "source": [
        "embedding_matrix.shape"
      ]
    },
    {
      "cell_type": "code",
      "execution_count": 41,
      "id": "d1b67f68",
      "metadata": {
        "id": "d1b67f68",
        "outputId": "832cdb7b-5e6d-4d36-ef29-5ec5e3db3159",
        "colab": {
          "base_uri": "https://localhost:8080/"
        }
      },
      "outputs": [
        {
          "output_type": "execute_result",
          "data": {
            "text/plain": [
              "1000"
            ]
          },
          "metadata": {},
          "execution_count": 41
        }
      ],
      "source": [
        "c"
      ]
    },
    {
      "cell_type": "markdown",
      "id": "7dfbeace",
      "metadata": {
        "id": "7dfbeace"
      },
      "source": [
        "## Model Creation"
      ]
    },
    {
      "cell_type": "code",
      "execution_count": 42,
      "id": "d4781683",
      "metadata": {
        "id": "d4781683"
      },
      "outputs": [],
      "source": [
        "from keras.models import Sequential\n",
        "from keras.layers import Dense, LSTM, Dropout, Bidirectional, Flatten\n",
        "from keras.layers.embeddings import Embedding\n",
        "from keras.preprocessing import sequence\n",
        "\n",
        "model = Sequential()\n",
        "model.add(Embedding(vocab_size, embedding_dim, \n",
        "                    weights=[embedding_matrix],\n",
        "                    input_length=max_len,\n",
        "                    trainable=True\n",
        "                   )\n",
        "         )\n",
        "\n",
        "model.add(Bidirectional(LSTM(50), merge_mode='mul'))\n",
        "model.add(Dropout(0.2))\n",
        "model.add(Dense(10, activation='relu'))\n",
        "model.add(Dropout(0.2))\n",
        "model.add(Dense(1, activation='sigmoid'))\n",
        "\n"
      ]
    },
    {
      "cell_type": "code",
      "execution_count": 44,
      "id": "7a41ee33",
      "metadata": {
        "id": "7a41ee33"
      },
      "outputs": [],
      "source": [
        "model.compile(optimizer='adam', loss='binary_crossentropy', metrics=['accuracy'])"
      ]
    },
    {
      "cell_type": "code",
      "execution_count": 45,
      "id": "5145e65b",
      "metadata": {
        "id": "5145e65b",
        "outputId": "100008e2-7429-4392-d87c-e9e3b7140c6b",
        "colab": {
          "base_uri": "https://localhost:8080/"
        }
      },
      "outputs": [
        {
          "output_type": "stream",
          "name": "stdout",
          "text": [
            "Model: \"sequential\"\n",
            "_________________________________________________________________\n",
            " Layer (type)                Output Shape              Param #   \n",
            "=================================================================\n",
            " embedding (Embedding)       (None, 30, 300)           1500000   \n",
            "                                                                 \n",
            " bidirectional (Bidirectiona  (None, 50)               140400    \n",
            " l)                                                              \n",
            "                                                                 \n",
            " dropout (Dropout)           (None, 50)                0         \n",
            "                                                                 \n",
            " dense (Dense)               (None, 10)                510       \n",
            "                                                                 \n",
            " dropout_1 (Dropout)         (None, 10)                0         \n",
            "                                                                 \n",
            " dense_1 (Dense)             (None, 1)                 11        \n",
            "                                                                 \n",
            "=================================================================\n",
            "Total params: 1,640,921\n",
            "Trainable params: 1,640,921\n",
            "Non-trainable params: 0\n",
            "_________________________________________________________________\n"
          ]
        }
      ],
      "source": [
        "model.summary()"
      ]
    },
    {
      "cell_type": "code",
      "execution_count": 47,
      "id": "2ff0c0f7",
      "metadata": {
        "id": "2ff0c0f7",
        "outputId": "00a8eac7-cff5-41a2-eec7-382537379764",
        "colab": {
          "base_uri": "https://localhost:8080/"
        }
      },
      "outputs": [
        {
          "output_type": "stream",
          "name": "stdout",
          "text": [
            "Epoch 1/10\n",
            "70/70 [==============================] - 2s 32ms/step - loss: 0.0299 - accuracy: 0.9914 - val_loss: 0.8676 - val_accuracy: 0.7733\n",
            "Epoch 2/10\n",
            "70/70 [==============================] - 2s 32ms/step - loss: 0.0183 - accuracy: 0.9971 - val_loss: 0.9570 - val_accuracy: 0.7900\n",
            "Epoch 3/10\n",
            "70/70 [==============================] - 2s 31ms/step - loss: 0.0064 - accuracy: 1.0000 - val_loss: 1.0873 - val_accuracy: 0.7967\n",
            "Epoch 4/10\n",
            "70/70 [==============================] - 2s 32ms/step - loss: 0.0041 - accuracy: 1.0000 - val_loss: 1.0935 - val_accuracy: 0.7933\n",
            "Epoch 5/10\n",
            "70/70 [==============================] - 2s 32ms/step - loss: 0.0048 - accuracy: 1.0000 - val_loss: 1.0766 - val_accuracy: 0.7867\n",
            "Epoch 6/10\n",
            "70/70 [==============================] - 2s 31ms/step - loss: 0.0029 - accuracy: 1.0000 - val_loss: 1.2136 - val_accuracy: 0.7933\n",
            "Epoch 7/10\n",
            "70/70 [==============================] - 2s 32ms/step - loss: 0.0020 - accuracy: 1.0000 - val_loss: 1.2628 - val_accuracy: 0.7900\n",
            "Epoch 8/10\n",
            "70/70 [==============================] - 2s 31ms/step - loss: 0.0036 - accuracy: 1.0000 - val_loss: 1.3255 - val_accuracy: 0.7933\n",
            "Epoch 9/10\n",
            "70/70 [==============================] - 2s 32ms/step - loss: 0.0014 - accuracy: 1.0000 - val_loss: 1.2985 - val_accuracy: 0.7900\n",
            "Epoch 10/10\n",
            "70/70 [==============================] - 2s 32ms/step - loss: 0.0013 - accuracy: 1.0000 - val_loss: 1.3917 - val_accuracy: 0.7933\n"
          ]
        },
        {
          "output_type": "execute_result",
          "data": {
            "text/plain": [
              "<keras.callbacks.History at 0x7f7051cfddd0>"
            ]
          },
          "metadata": {},
          "execution_count": 47
        }
      ],
      "source": [
        "model.fit(X_train, y_train, epochs=10, verbose=True,\n",
        "          validation_data=(X_test, y_test),\n",
        "          batch_size=10)"
      ]
    },
    {
      "cell_type": "code",
      "source": [
        "loss, accuracy = model.evaluate(X_train, y_train, verbose=False)\n",
        "print(\"Training Accuracy is: {:.5f}\".format(accuracy))\n",
        "loss, accuracy = model.evaluate(X_test, y_test, verbose=False)\n",
        "print(\"Testing Accuracy is: {:.5f}\".format(accuracy))"
      ],
      "metadata": {
        "id": "U05UDVp68yxo",
        "outputId": "145c323f-0fd6-41ef-cf25-80594ccc91ad",
        "colab": {
          "base_uri": "https://localhost:8080/"
        }
      },
      "id": "U05UDVp68yxo",
      "execution_count": 48,
      "outputs": [
        {
          "output_type": "stream",
          "name": "stdout",
          "text": [
            "Training Accuracy is: 1.00000\n",
            "Testing Accuracy is: 0.79333\n"
          ]
        }
      ]
    },
    {
      "cell_type": "code",
      "source": [
        ""
      ],
      "metadata": {
        "id": "UlRCkX9J9Vqk"
      },
      "id": "UlRCkX9J9Vqk",
      "execution_count": null,
      "outputs": []
    }
  ],
  "metadata": {
    "kernelspec": {
      "display_name": "Python 3",
      "language": "python",
      "name": "python3"
    },
    "language_info": {
      "codemirror_mode": {
        "name": "ipython",
        "version": 3
      },
      "file_extension": ".py",
      "mimetype": "text/x-python",
      "name": "python",
      "nbconvert_exporter": "python",
      "pygments_lexer": "ipython3",
      "version": "3.8.8"
    },
    "colab": {
      "name": "Sentiment_Analysis.ipynb",
      "provenance": []
    }
  },
  "nbformat": 4,
  "nbformat_minor": 5
}